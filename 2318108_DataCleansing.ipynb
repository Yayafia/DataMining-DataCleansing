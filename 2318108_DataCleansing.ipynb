{
  "cells": [
    {
      "cell_type": "markdown",
      "metadata": {
        "id": "KmlSu9RudPk7"
      },
      "source": [
        "# **1. Import Library**"
      ]
    },
    {
      "cell_type": "code",
      "execution_count": null,
      "metadata": {
        "id": "1r-M_7egXE14"
      },
      "outputs": [],
      "source": [
        "import pandas as pd\n",
        "import re"
      ]
    },
    {
      "cell_type": "markdown",
      "metadata": {
        "id": "-j4imSrZdgC6"
      },
      "source": [
        "# **2. Menghubungkan Google Colab dengan Google Drive**"
      ]
    },
    {
      "cell_type": "code",
      "execution_count": null,
      "metadata": {
        "colab": {
          "base_uri": "https://localhost:8080/"
        },
        "id": "ofygvAfEYYsy",
        "outputId": "9ac6d87d-113a-48b0-fd24-b01a9691b38b"
      },
      "outputs": [
        {
          "output_type": "stream",
          "name": "stdout",
          "text": [
            "Drive already mounted at /content/drive; to attempt to forcibly remount, call drive.mount(\"/content/drive\", force_remount=True).\n"
          ]
        }
      ],
      "source": [
        "from google.colab import drive\n",
        "drive.mount('/content/drive')"
      ]
    },
    {
      "cell_type": "markdown",
      "metadata": {
        "id": "Svt092K5dpay"
      },
      "source": [
        "# **3. Menghubungkan kedataset kotor**"
      ]
    },
    {
      "cell_type": "code",
      "execution_count": null,
      "metadata": {
        "colab": {
          "base_uri": "https://localhost:8080/"
        },
        "id": "v4Kvp3aarkji",
        "outputId": "b5e584b8-df04-4e0c-fa8a-2de72c649633"
      },
      "outputs": [
        {
          "output_type": "stream",
          "name": "stdout",
          "text": [
            "    Review #           Brand  \\\n",
            "0     2580.0       New Touch   \n",
            "1     2579.0        Just Way   \n",
            "2     2578.0          Nissin   \n",
            "3     2577.0         Wei Lih   \n",
            "4     2576.0  Ching's Secret   \n",
            "5     2575.0   Samyang Foods   \n",
            "6     2574.0         Acecook   \n",
            "7     2573.0     Ikeda Shoku   \n",
            "8     2572.0      Ripe'n'Dry   \n",
            "9     2571.0            KOKA   \n",
            "10    2570.0     Tao Kae Noi   \n",
            "11    2569.0        Yamachan   \n",
            "12    2568.0        Nongshim   \n",
            "13    2567.0          Nissin   \n",
            "14    2566.0          Nissin   \n",
            "15    2565.0            KOKA   \n",
            "16    2564.0            TRDP   \n",
            "17    2563.0        Yamachan   \n",
            "18    2562.0        Binh Tay   \n",
            "19    2561.0           Paldo   \n",
            "\n",
            "                                              Variety Style      Country  \\\n",
            "0                           T's Restaurant Tantanmen    Cup        Japan   \n",
            "1   Noodles Spicy Hot Sesame Spicy Hot Sesame Guan...  Pack       Taiwan   \n",
            "2                       Cup Noodles Chicken Vegetable   Cup          USA   \n",
            "3                       GGE Ramen Snack Tomato Flavor  Pack       Taiwan   \n",
            "4                                     Singapore Curry  Pack        India   \n",
            "5                              Kimchi song Song Ramen  Pack  South Korea   \n",
            "6                 Spice Deli Tantan Men With Cilantro   Cup        Japan   \n",
            "7                               Nabeyaki Kitsune Udon  Tray        Japan   \n",
            "8                            Hokkaido Soy Sauce Ramen  Pack        Japan   \n",
            "9               The Original Spicy Stir-Fried Noodles  Pack    Singapore   \n",
            "10                        Creamy tom Yum Kung Flavour  Pack     Thailand   \n",
            "11                            Yokohama Tonkotsu Shoyu  Pack          USA   \n",
            "12                 Mr. Bibim Stir-Fried Kimchi Flavor  Pack  South Korea   \n",
            "13                       Deka Buto Kimchi Pork Flavor  Bowl        Japan   \n",
            "14  Demae Ramen Bar Noodle Aka Tonkotsu Flavour In...  Pack    Hong Kong   \n",
            "15                   Mushroom Flavour Instant Noodles   Cup    Singapore   \n",
            "16                               Mario Masala Noodles  Pack        India   \n",
            "17                                  Tokyo Shoyu Ramen  Pack          USA   \n",
            "18                                         Mi Hai Cua  Pack      Vietnam   \n",
            "19                                    Premium Gomtang  Pack  South Korea   \n",
            "\n",
            "   Stars Top Ten  \n",
            "0   3.75     NaN  \n",
            "1      1     NaN  \n",
            "2   2.25     NaN  \n",
            "3   2.75     NaN  \n",
            "4   3.75     NaN  \n",
            "5   4.75     NaN  \n",
            "6      4     NaN  \n",
            "7   3.75     NaN  \n",
            "8   0.25     NaN  \n",
            "9    2.5     NaN  \n",
            "10     5     NaN  \n",
            "11     5     NaN  \n",
            "12  4.25     NaN  \n",
            "13   4.5     NaN  \n",
            "14     5     NaN  \n",
            "15   3.5     NaN  \n",
            "16  3.75     NaN  \n",
            "17     5     NaN  \n",
            "18     4     NaN  \n",
            "19     4     NaN  \n"
          ]
        }
      ],
      "source": [
        "file_path = '/content/drive/MyDrive/DataMining/Dataset_kotor/messy_data_ramen.csv'\n",
        "\n",
        "# baca CSV dengan delimiter ;\n",
        "df = pd.read_csv(file_path, delimiter=\";\")\n",
        "\n",
        "print(df.head(20))"
      ]
    },
    {
      "cell_type": "markdown",
      "metadata": {
        "id": "U6qiKiMPdvkW"
      },
      "source": [
        "# **4. Menampilkan dataset kotor**"
      ]
    },
    {
      "cell_type": "code",
      "execution_count": null,
      "metadata": {
        "colab": {
          "base_uri": "https://localhost:8080/"
        },
        "id": "-GvzIrGKvZ1w",
        "outputId": "2f82638f-0600-4726-b862-404c41bb9e3f"
      },
      "outputs": [
        {
          "output_type": "stream",
          "name": "stdout",
          "text": [
            "   Review #           Brand  \\\n",
            "0    2580.0       New Touch   \n",
            "1    2579.0        Just Way   \n",
            "2    2578.0          Nissin   \n",
            "3    2577.0         Wei Lih   \n",
            "4    2576.0  Ching's Secret   \n",
            "5    2575.0   Samyang Foods   \n",
            "6    2574.0         Acecook   \n",
            "7    2573.0     Ikeda Shoku   \n",
            "8    2572.0      Ripe'n'Dry   \n",
            "9    2571.0            KOKA   \n",
            "\n",
            "                                             Variety Style      Country Stars  \\\n",
            "0                          T's Restaurant Tantanmen    Cup        Japan  3.75   \n",
            "1  Noodles Spicy Hot Sesame Spicy Hot Sesame Guan...  Pack       Taiwan     1   \n",
            "2                      Cup Noodles Chicken Vegetable   Cup          USA  2.25   \n",
            "3                      GGE Ramen Snack Tomato Flavor  Pack       Taiwan  2.75   \n",
            "4                                    Singapore Curry  Pack        India  3.75   \n",
            "5                             Kimchi song Song Ramen  Pack  South Korea  4.75   \n",
            "6                Spice Deli Tantan Men With Cilantro   Cup        Japan     4   \n",
            "7                              Nabeyaki Kitsune Udon  Tray        Japan  3.75   \n",
            "8                           Hokkaido Soy Sauce Ramen  Pack        Japan  0.25   \n",
            "9              The Original Spicy Stir-Fried Noodles  Pack    Singapore   2.5   \n",
            "\n",
            "  Top Ten  \n",
            "0     NaN  \n",
            "1     NaN  \n",
            "2     NaN  \n",
            "3     NaN  \n",
            "4     NaN  \n",
            "5     NaN  \n",
            "6     NaN  \n",
            "7     NaN  \n",
            "8     NaN  \n",
            "9     NaN  \n"
          ]
        }
      ],
      "source": [
        "print(df.head(10)) #menampilkan 10 data teratas"
      ]
    },
    {
      "cell_type": "markdown",
      "metadata": {
        "id": "24aDTurwd4pc"
      },
      "source": [
        "# **5. Menampilkan Jumlah Data, Kolom, dan Tipe Data**"
      ]
    },
    {
      "cell_type": "code",
      "execution_count": null,
      "metadata": {
        "colab": {
          "base_uri": "https://localhost:8080/"
        },
        "id": "7DY1WSYRwxzp",
        "outputId": "7250966e-c4b8-483b-d947-2fa5bec1fdaa"
      },
      "outputs": [
        {
          "output_type": "stream",
          "name": "stdout",
          "text": [
            "<class 'pandas.core.frame.DataFrame'>\n",
            "RangeIndex: 1970 entries, 0 to 1969\n",
            "Data columns (total 7 columns):\n",
            " #   Column    Non-Null Count  Dtype  \n",
            "---  ------    --------------  -----  \n",
            " 0   Review #  1966 non-null   float64\n",
            " 1   Brand     1966 non-null   object \n",
            " 2   Variety   1966 non-null   object \n",
            " 3   Style     1965 non-null   object \n",
            " 4   Country   1966 non-null   object \n",
            " 5   Stars     1966 non-null   object \n",
            " 6   Top Ten   30 non-null     object \n",
            "dtypes: float64(1), object(6)\n",
            "memory usage: 107.9+ KB\n",
            "None\n",
            "\n",
            "Tipe Data:\n",
            "Review #    float64\n",
            "Brand        object\n",
            "Variety      object\n",
            "Style        object\n",
            "Country      object\n",
            "Stars        object\n",
            "Top Ten      object\n",
            "dtype: object\n",
            "\\ 30 Data Teratas:\n",
            "    Review #             Brand  \\\n",
            "0     2580.0         New Touch   \n",
            "1     2579.0          Just Way   \n",
            "2     2578.0            Nissin   \n",
            "3     2577.0           Wei Lih   \n",
            "4     2576.0    Ching's Secret   \n",
            "5     2575.0     Samyang Foods   \n",
            "6     2574.0           Acecook   \n",
            "7     2573.0       Ikeda Shoku   \n",
            "8     2572.0        Ripe'n'Dry   \n",
            "9     2571.0              KOKA   \n",
            "10    2570.0       Tao Kae Noi   \n",
            "11    2569.0          Yamachan   \n",
            "12    2568.0          Nongshim   \n",
            "13    2567.0            Nissin   \n",
            "14    2566.0            Nissin   \n",
            "15    2565.0              KOKA   \n",
            "16    2564.0              TRDP   \n",
            "17    2563.0          Yamachan   \n",
            "18    2562.0          Binh Tay   \n",
            "19    2561.0             Paldo   \n",
            "20    2560.0            Nissin   \n",
            "21    2559.0  Jackpot Teriyaki   \n",
            "22    2558.0              KOKA   \n",
            "23    2557.0          Yamachan   \n",
            "24    2556.0    Ching's Secret   \n",
            "25    2555.0     Samyang Foods   \n",
            "26    2554.0           Yum-Mie   \n",
            "27    2553.0            Nissin   \n",
            "28    2552.0           MyKuali   \n",
            "29    2551.0              KOKA   \n",
            "\n",
            "                                              Variety Style      Country  \\\n",
            "0                           T's Restaurant Tantanmen    Cup        Japan   \n",
            "1   Noodles Spicy Hot Sesame Spicy Hot Sesame Guan...  Pack       Taiwan   \n",
            "2                       Cup Noodles Chicken Vegetable   Cup          USA   \n",
            "3                       GGE Ramen Snack Tomato Flavor  Pack       Taiwan   \n",
            "4                                     Singapore Curry  Pack        India   \n",
            "5                              Kimchi song Song Ramen  Pack  South Korea   \n",
            "6                 Spice Deli Tantan Men With Cilantro   Cup        Japan   \n",
            "7                               Nabeyaki Kitsune Udon  Tray        Japan   \n",
            "8                            Hokkaido Soy Sauce Ramen  Pack        Japan   \n",
            "9               The Original Spicy Stir-Fried Noodles  Pack    Singapore   \n",
            "10                        Creamy tom Yum Kung Flavour  Pack     Thailand   \n",
            "11                            Yokohama Tonkotsu Shoyu  Pack          USA   \n",
            "12                 Mr. Bibim Stir-Fried Kimchi Flavor  Pack  South Korea   \n",
            "13                       Deka Buto Kimchi Pork Flavor  Bowl        Japan   \n",
            "14  Demae Ramen Bar Noodle Aka Tonkotsu Flavour In...  Pack    Hong Kong   \n",
            "15                   Mushroom Flavour Instant Noodles   Cup    Singapore   \n",
            "16                               Mario Masala Noodles  Pack        India   \n",
            "17                                  Tokyo Shoyu Ramen  Pack          USA   \n",
            "18                                         Mi Hai Cua  Pack      Vietnam   \n",
            "19                                    Premium Gomtang  Pack  South Korea   \n",
            "20                          Cup Noodles Laksa Flavour   Cup    Hong Kong   \n",
            "21                                         Beef Ramen  Pack          USA   \n",
            "22  Creamy Soup With Crushed Noodles Hot & Sour Fi...   Cup    Singapore   \n",
            "23                                 Sapporo Miso Ramen  Pack          USA   \n",
            "24                         Hot Garlic Instant Noodles  Pack        India   \n",
            "25                          Song Song Kimchi Big Bowl  Bowl  South Korea   \n",
            "26         Instant Noodles Beef In Light Soup Flavour  Pack        Ghana   \n",
            "27                 Hakata Ramen Noodle White Tonkotsu  Bowl        Japan   \n",
            "28            Penang White Curry Rice Vermicelli Soup  Bowl     Malaysia   \n",
            "29           Signature Tom Yum Flavor Instant Noodles  Pack    Singapore   \n",
            "\n",
            "   Stars Top Ten  \n",
            "0   3.75     NaN  \n",
            "1      1     NaN  \n",
            "2   2.25     NaN  \n",
            "3   2.75     NaN  \n",
            "4   3.75     NaN  \n",
            "5   4.75     NaN  \n",
            "6      4     NaN  \n",
            "7   3.75     NaN  \n",
            "8   0.25     NaN  \n",
            "9    2.5     NaN  \n",
            "10     5     NaN  \n",
            "11     5     NaN  \n",
            "12  4.25     NaN  \n",
            "13   4.5     NaN  \n",
            "14     5     NaN  \n",
            "15   3.5     NaN  \n",
            "16  3.75     NaN  \n",
            "17     5     NaN  \n",
            "18     4     NaN  \n",
            "19     4     NaN  \n",
            "20  4.25     NaN  \n",
            "21     5     NaN  \n",
            "22     5     NaN  \n",
            "23  4.75     NaN  \n",
            "24  4.25     NaN  \n",
            "25  4.25     NaN  \n",
            "26   3.5     NaN  \n",
            "27  4.75     NaN  \n",
            "28     5     NaN  \n",
            "29     4     NaN  \n"
          ]
        },
        {
          "output_type": "stream",
          "name": "stderr",
          "text": [
            "<>:7: SyntaxWarning: invalid escape sequence '\\ '\n",
            "<>:7: SyntaxWarning: invalid escape sequence '\\ '\n",
            "/tmp/ipython-input-1510201904.py:7: SyntaxWarning: invalid escape sequence '\\ '\n",
            "  print(\"\\ 30 Data Teratas:\")\n"
          ]
        }
      ],
      "source": [
        "print(df.info())\n",
        "\n",
        "print(\"\\nTipe Data:\")\n",
        "column_types = df.dtypes\n",
        "print(column_types)\n",
        "\n",
        "print(\"\\ 30 Data Teratas:\")\n",
        "print(df.head(30))"
      ]
    },
    {
      "cell_type": "markdown",
      "metadata": {
        "id": "H6mUOxpreSSS"
      },
      "source": [
        "# **6. Data Cleansing-Standarisasi Kolom Review #**"
      ]
    },
    {
      "cell_type": "code",
      "execution_count": null,
      "metadata": {
        "colab": {
          "base_uri": "https://localhost:8080/"
        },
        "id": "VXTfxCw03nwC",
        "outputId": "2f276a49-392a-4021-eb26-07bdf1afcdc0"
      },
      "outputs": [
        {
          "output_type": "stream",
          "name": "stdout",
          "text": [
            "Index(['Review #', 'Brand', 'Variety', 'Style', 'Country', 'Stars', 'Top Ten'], dtype='object')\n",
            "    Review #  Review\n",
            "0     2580.0  2580.0\n",
            "1     2579.0  2579.0\n",
            "2     2578.0  2578.0\n",
            "3     2577.0  2577.0\n",
            "4     2576.0  2576.0\n",
            "5     2575.0  2575.0\n",
            "6     2574.0  2574.0\n",
            "7     2573.0  2573.0\n",
            "8     2572.0  2572.0\n",
            "9     2571.0  2571.0\n",
            "10    2570.0  2570.0\n",
            "11    2569.0  2569.0\n",
            "12    2568.0  2568.0\n",
            "13    2567.0  2567.0\n",
            "14    2566.0  2566.0\n",
            "15    2565.0  2565.0\n",
            "16    2564.0  2564.0\n",
            "17    2563.0  2563.0\n",
            "18    2562.0  2562.0\n",
            "19    2561.0  2561.0\n",
            "20    2560.0  2560.0\n",
            "21    2559.0  2559.0\n",
            "22    2558.0  2558.0\n",
            "23    2557.0  2557.0\n",
            "24    2556.0  2556.0\n",
            "25    2555.0  2555.0\n",
            "26    2554.0  2554.0\n",
            "27    2553.0  2553.0\n",
            "28    2552.0  2552.0\n",
            "29    2551.0  2551.0\n"
          ]
        }
      ],
      "source": [
        "print(df.columns)\n",
        "\n",
        "df['Review'] = df['Review #'].astype(str).str.strip()\n",
        "\n",
        "# Ubah ke numeric supaya isinya angka (kalau ada yang bukan angka jadi NaN)\n",
        "df['Review'] = pd.to_numeric(df['Review'], errors='coerce')\n",
        "\n",
        "print(df[['Review #','Review']].head(30))\n"
      ]
    },
    {
      "cell_type": "markdown",
      "metadata": {
        "id": "hMD5UXBgec5O"
      },
      "source": [
        "# **7. Data Cleansing-Standarisasi Kolom Brand**"
      ]
    },
    {
      "cell_type": "code",
      "execution_count": null,
      "metadata": {
        "colab": {
          "base_uri": "https://localhost:8080/"
        },
        "id": "bcL-fSWg31sy",
        "outputId": "83bb1a50-4f7d-49cf-ab5c-083a56fed77e"
      },
      "outputs": [
        {
          "output_type": "stream",
          "name": "stdout",
          "text": [
            "['New Touch' 'Just Way' 'Nissin' 'Wei Lih' \"Ching'S Secret\"\n",
            " 'Samyang Foods' 'Acecook' 'Ikeda Shoku' \"Ripe'N'Dry\" 'Koka' 'Tao Kae Noi'\n",
            " 'Yamachan' 'Nongshim' 'Trdp' 'Binh Tay' 'Paldo' 'Jackpot Teriyaki'\n",
            " 'Yum-Mie' 'Mykuali' 'Ottogi' 'Sichuan Guangyou' 'Lipton' 'Lele'\n",
            " 'Fujiwara' 'Uni-President' 'Maruchan' 'Prima' 'Sokensha' 'Takamori'\n",
            " 'Guava Story' 'Samurai Ramen' 'Ogasawara' 'Pringles' \"Mom'S Dry Noodle\"\n",
            " 'Maggi' 'Indomie' 'Happy Cook' 'The Ramen Rater Select' 'Ttl' 'E-Zee'\n",
            " 'Kiki Noodle' 'Tokyo Noodle' 'Gge' 'Myojo' 'Sau Tao' 'Wang' 'Daifuku'\n",
            " 'Master Kong' \"World O' Noodle\" 'Kang Shi Fu']\n"
          ]
        }
      ],
      "source": [
        "df['Brand'] = df['Brand'].astype(str).str.strip().str.title()\n",
        "\n",
        "# Tampilkan 20 nilai unik teratas buat ngecek hasil\n",
        "print(df['Brand'].unique()[:50])\n"
      ]
    },
    {
      "cell_type": "markdown",
      "metadata": {
        "id": "r_TGCKN7eidP"
      },
      "source": [
        "# **8. Data Cleansing-Standarisasi Kolom Variety**"
      ]
    },
    {
      "cell_type": "code",
      "execution_count": null,
      "metadata": {
        "colab": {
          "base_uri": "https://localhost:8080/"
        },
        "id": "8qKEgU4PFEaV",
        "outputId": "c5cc69bb-df88-4a3b-f739-1b250f4024da"
      },
      "outputs": [
        {
          "output_type": "stream",
          "name": "stdout",
          "text": [
            "\n",
            "Sesudah Cleansing Variety:\n",
            "0                               Ts Restaurant Tantanmen\n",
            "1     Noodles Spicy Hot Sesame Spicy Hot Sesame Guan...\n",
            "2                         Cup Noodles Chicken Vegetable\n",
            "3                         Gge Ramen Snack Tomato Flavor\n",
            "4                                       Singapore Curry\n",
            "5                                Kimchi Song Song Ramen\n",
            "6                   Spice Deli Tantan Men With Cilantro\n",
            "7                                 Nabeyaki Kitsune Udon\n",
            "8                              Hokkaido Soy Sauce Ramen\n",
            "9                  The Original Spicy Stirfried Noodles\n",
            "10                          Creamy Tom Yum Kung Flavour\n",
            "11                              Yokohama Tonkotsu Shoyu\n",
            "12                     Mr Bibim Stirfried Kimchi Flavor\n",
            "13                         Deka Buto Kimchi Pork Flavor\n",
            "14    Demae Ramen Bar Noodle Aka Tonkotsu Flavour In...\n",
            "15                     Mushroom Flavour Instant Noodles\n",
            "16                                 Mario Masala Noodles\n",
            "17                                    Tokyo Shoyu Ramen\n",
            "18                                           Mi Hai Cua\n",
            "19                                      Premium Gomtang\n",
            "20                            Cup Noodles Laksa Flavour\n",
            "21                                           Beef Ramen\n",
            "22    Creamy Soup With Crushed Noodles Hot  Sour Fis...\n",
            "23                                   Sapporo Miso Ramen\n",
            "24                           Hot Garlic Instant Noodles\n",
            "25                            Song Song Kimchi Big Bowl\n",
            "26           Instant Noodles Beef In Light Soup Flavour\n",
            "27                   Hakata Ramen Noodle White Tonkotsu\n",
            "28              Penang White Curry Rice Vermicelli Soup\n",
            "29             Signature Tom Yum Flavor Instant Noodles\n",
            "Name: Variety, dtype: object\n"
          ]
        }
      ],
      "source": [
        "df['Variety'] = df['Variety'].apply(lambda x: re.sub(r'[^\\w\\s]', '', str(x)))\n",
        "\n",
        "# Hapus spasi berlebih\n",
        "df['Variety'] = df['Variety'].str.strip()\n",
        "\n",
        "# Ubah huruf jadi Title Case biar rapi\n",
        "df['Variety'] = df['Variety'].str.title()\n",
        "\n",
        "# Cek lagi sesudah cleansing\n",
        "print(\"\\nSesudah Cleansing Variety:\")\n",
        "print(df['Variety'].head(30))"
      ]
    },
    {
      "cell_type": "markdown",
      "metadata": {
        "id": "xRPb_iwoep_C"
      },
      "source": [
        "# **9. Data Cleansing-Standarisasi Kolom Style**"
      ]
    },
    {
      "cell_type": "code",
      "execution_count": null,
      "metadata": {
        "colab": {
          "base_uri": "https://localhost:8080/"
        },
        "id": "0s5Ml7XhFmMb",
        "outputId": "97a66472-84d0-4958-cddc-456fb136c4fa"
      },
      "outputs": [
        {
          "output_type": "stream",
          "name": "stdout",
          "text": [
            "Nilai unik kolom Style setelah cleansing:\n",
            "['Cup' 'Pack' 'Tray' 'Bowl' 'Box' 'Can' 'Bar' 'Unknown']\n"
          ]
        }
      ],
      "source": [
        "df['Style'] = df['Style'].astype(str).str.strip()              # bersihin spasi\n",
        "df['Style'] = df['Style'].replace(['-', 'nan', 'None', ''], 'Unknown')\n",
        "df['Style'] = df['Style'].str.title()                          # Kapital awal\n",
        "\n",
        "# Cek hasil unik\n",
        "print(\"Nilai unik kolom Style setelah cleansing:\")\n",
        "print(df['Style'].unique()[:50])\n"
      ]
    },
    {
      "cell_type": "markdown",
      "metadata": {
        "id": "0bEA1b8pe77-"
      },
      "source": [
        "# **10. Data Cleansing-Standarisasi Kolom Country**"
      ]
    },
    {
      "cell_type": "code",
      "execution_count": null,
      "metadata": {
        "colab": {
          "base_uri": "https://localhost:8080/"
        },
        "id": "t2I6ds05GoDh",
        "outputId": "ae99703a-1e33-4246-8422-5920e936a142"
      },
      "outputs": [
        {
          "output_type": "stream",
          "name": "stdout",
          "text": [
            "Nilai unik kolom Country setelah cleansing:\n",
            "['Japan' 'Taiwan' 'United States' 'India' 'Korea South' 'Singapore'\n",
            " 'Thailand' 'Hong Kong' 'Vietnam' 'Ghana' 'Malaysia' 'Indonesia' 'China'\n",
            " 'Nigeria' 'Germany' 'Hungary' 'Mexico' 'Fiji' 'Australia' 'Pakistan'\n",
            " 'Bangladesh' 'Canada' 'Nepal' 'Brazil' 'United Kingdom' 'Myanmar'\n",
            " 'Netherlands' 'Cambodia' 'Finland' 'Sarawak' 'Philippines' 'Sweden'\n",
            " 'Colombia' 'Estonia' 'Holland' 'Poland' 'Nan']\n"
          ]
        }
      ],
      "source": [
        "df['Country'] = df['Country'].astype(str).str.strip()\n",
        "df['Country'] = df['Country'].str.title()\n",
        "\n",
        "# Mapping manual untuk penyatuan nama negara yang sama tapi beda penulisan\n",
        "country_mapping = {\n",
        "    \"Usa\": \"United States\",\n",
        "    \"U.S.A.\": \"United States\",\n",
        "    \"Uk\": \"United Kingdom\",\n",
        "    \"South Korea\": \"Korea South\",\n",
        "    \"S. Korea\": \"Korea South\",\n",
        "    \"Taiwan, China\": \"Taiwan\"\n",
        "}\n",
        "\n",
        "df['Country'] = df['Country'].replace(country_mapping)\n",
        "\n",
        "# Cek hasil unik\n",
        "print(\"Nilai unik kolom Country setelah cleansing:\")\n",
        "print(df['Country'].unique()[:50])\n"
      ]
    },
    {
      "cell_type": "markdown",
      "metadata": {
        "id": "MZxs6jKbfEJ2"
      },
      "source": [
        "# **11. Data Cleansing-Standarisasi Kolom Stars**"
      ]
    },
    {
      "cell_type": "code",
      "execution_count": null,
      "metadata": {
        "colab": {
          "base_uri": "https://localhost:8080/"
        },
        "id": "TgdXn5pbHDLt",
        "outputId": "6c84c95d-48b4-4e16-f269-1bf11ae056cd"
      },
      "outputs": [
        {
          "output_type": "stream",
          "name": "stdout",
          "text": [
            "Contoh 20 nilai Stars setelah cleansing:\n",
            "0     3.75\n",
            "1     1.00\n",
            "2     2.25\n",
            "3     2.75\n",
            "4     3.75\n",
            "5     4.75\n",
            "6     4.00\n",
            "7     3.75\n",
            "8     0.25\n",
            "9     2.50\n",
            "10    5.00\n",
            "11    5.00\n",
            "12    4.25\n",
            "13    4.50\n",
            "14    5.00\n",
            "15    3.50\n",
            "16    3.75\n",
            "17    5.00\n",
            "18    4.00\n",
            "19    4.00\n",
            "20    4.25\n",
            "21    5.00\n",
            "22    5.00\n",
            "23    4.75\n",
            "24    4.25\n",
            "25    4.25\n",
            "26    3.50\n",
            "27    4.75\n",
            "28    5.00\n",
            "29    4.00\n",
            "Name: Stars, dtype: float64\n"
          ]
        }
      ],
      "source": [
        "import numpy as np\n",
        "\n",
        "df['Stars'] = df['Stars'].astype(str).str.strip()\n",
        "\n",
        "# Ganti koma dengan titik\n",
        "df['Stars'] = df['Stars'].str.replace(',', '.', regex=False)\n",
        "\n",
        "# Ganti 'Unrated' atau kosong dengan NaN\n",
        "df['Stars'] = df['Stars'].replace(['Unrated', 'nan', 'None', ''], np.nan)\n",
        "\n",
        "# Convert ke float\n",
        "df['Stars'] = pd.to_numeric(df['Stars'], errors='coerce')\n",
        "\n",
        "# Cek hasil\n",
        "print(\"Contoh 20 nilai Stars setelah cleansing:\")\n",
        "print(df['Stars'].head(30))\n"
      ]
    },
    {
      "cell_type": "markdown",
      "metadata": {
        "id": "9IyCBR6Uf1Hu"
      },
      "source": [
        "# **12. Data Cleansing-Deduplikasi Data**"
      ]
    },
    {
      "cell_type": "code",
      "execution_count": null,
      "metadata": {
        "colab": {
          "base_uri": "https://localhost:8080/"
        },
        "id": "Bmaqz_vKJhdk",
        "outputId": "02d12956-07cf-49e9-a9b8-6c53de4fd9d6"
      },
      "outputs": [
        {
          "output_type": "stream",
          "name": "stdout",
          "text": [
            "Jumlah data yang duplikat: 7\n",
            "\n",
            "Contoh data duplikat:\n",
            "      Review #         Brand                               Variety    Style  \\\n",
            "821     1759.0        Nissin         Cup Noodles Moo Manao Flavour      Cup   \n",
            "899     1681.0  Wugudaochang  Sea Tangle  Sparerins Flavor Noodles     Bowl   \n",
            "1080    1500.0       Mykuali       Penang Red Tom Yum Goong Noodle     Pack   \n",
            "1511    1069.0        Nissin                 Raoh Rich Miso Flavor     Bowl   \n",
            "1672       NaN           Nan                                   Nan  Unknown   \n",
            "1964       NaN           Nan                                   Nan  Unknown   \n",
            "1965       NaN           Nan                                   Nan  Unknown   \n",
            "\n",
            "       Country  Stars  Top Ten  Review  \n",
            "821   Thailand   4.00      NaN  1759.0  \n",
            "899      China   3.75      NaN  1681.0  \n",
            "1080  Malaysia   5.00  2015 #1  1500.0  \n",
            "1511     Japan   5.00      NaN  1069.0  \n",
            "1672       Nan    NaN      NaN     NaN  \n",
            "1964       Nan    NaN      NaN     NaN  \n",
            "1965       Nan    NaN      NaN     NaN  \n",
            "\n",
            "Jumlah data setelah menghapus duplikat: 1963\n"
          ]
        }
      ],
      "source": [
        "duplicate_rows = df[df.duplicated(['Brand', 'Variety', 'Style', 'Country', 'Stars'], keep='first')]\n",
        "\n",
        "print(\"Jumlah data yang duplikat:\", len(duplicate_rows))\n",
        "\n",
        "print(\"\\nContoh data duplikat:\")\n",
        "print(duplicate_rows)\n",
        "\n",
        "# Hapus duplikat (opsional, hanya kalau memang mau dibersihkan)\n",
        "df = df.drop_duplicates(['Brand', 'Variety', 'Style', 'Country', 'Stars'], keep='first')\n",
        "\n",
        "print(\"\\nJumlah data setelah menghapus duplikat:\", len(df))"
      ]
    },
    {
      "cell_type": "markdown",
      "metadata": {
        "id": "KgiCrBsGfRTk"
      },
      "source": [
        "# **13. Data Cleansing-Data Setelah Cleansing Duplikasi**"
      ]
    },
    {
      "cell_type": "code",
      "execution_count": null,
      "metadata": {
        "colab": {
          "base_uri": "https://localhost:8080/"
        },
        "id": "EsgF7RN9JiBB",
        "outputId": "b7a206f5-f5a4-4d69-bf8f-aef96e9a98ed"
      },
      "outputs": [
        {
          "output_type": "stream",
          "name": "stdout",
          "text": [
            "\n",
            "Jumlah data setelah cleansing (hapus duplikasi): 1963\n",
            "\n",
            "Contoh data setelah cleansing:\n",
            "    Review #             Brand  \\\n",
            "0     2580.0         New Touch   \n",
            "1     2579.0          Just Way   \n",
            "2     2578.0            Nissin   \n",
            "3     2577.0           Wei Lih   \n",
            "4     2576.0    Ching'S Secret   \n",
            "5     2575.0     Samyang Foods   \n",
            "6     2574.0           Acecook   \n",
            "7     2573.0       Ikeda Shoku   \n",
            "8     2572.0        Ripe'N'Dry   \n",
            "9     2571.0              Koka   \n",
            "10    2570.0       Tao Kae Noi   \n",
            "11    2569.0          Yamachan   \n",
            "12    2568.0          Nongshim   \n",
            "13    2567.0            Nissin   \n",
            "14    2566.0            Nissin   \n",
            "15    2565.0              Koka   \n",
            "16    2564.0              Trdp   \n",
            "17    2563.0          Yamachan   \n",
            "18    2562.0          Binh Tay   \n",
            "19    2561.0             Paldo   \n",
            "20    2560.0            Nissin   \n",
            "21    2559.0  Jackpot Teriyaki   \n",
            "22    2558.0              Koka   \n",
            "23    2557.0          Yamachan   \n",
            "24    2556.0    Ching'S Secret   \n",
            "25    2555.0     Samyang Foods   \n",
            "26    2554.0           Yum-Mie   \n",
            "27    2553.0            Nissin   \n",
            "28    2552.0           Mykuali   \n",
            "29    2551.0              Koka   \n",
            "\n",
            "                                              Variety Style        Country  \\\n",
            "0                             Ts Restaurant Tantanmen   Cup          Japan   \n",
            "1   Noodles Spicy Hot Sesame Spicy Hot Sesame Guan...  Pack         Taiwan   \n",
            "2                       Cup Noodles Chicken Vegetable   Cup  United States   \n",
            "3                       Gge Ramen Snack Tomato Flavor  Pack         Taiwan   \n",
            "4                                     Singapore Curry  Pack          India   \n",
            "5                              Kimchi Song Song Ramen  Pack    Korea South   \n",
            "6                 Spice Deli Tantan Men With Cilantro   Cup          Japan   \n",
            "7                               Nabeyaki Kitsune Udon  Tray          Japan   \n",
            "8                            Hokkaido Soy Sauce Ramen  Pack          Japan   \n",
            "9                The Original Spicy Stirfried Noodles  Pack      Singapore   \n",
            "10                        Creamy Tom Yum Kung Flavour  Pack       Thailand   \n",
            "11                            Yokohama Tonkotsu Shoyu  Pack  United States   \n",
            "12                   Mr Bibim Stirfried Kimchi Flavor  Pack    Korea South   \n",
            "13                       Deka Buto Kimchi Pork Flavor  Bowl          Japan   \n",
            "14  Demae Ramen Bar Noodle Aka Tonkotsu Flavour In...  Pack      Hong Kong   \n",
            "15                   Mushroom Flavour Instant Noodles   Cup      Singapore   \n",
            "16                               Mario Masala Noodles  Pack          India   \n",
            "17                                  Tokyo Shoyu Ramen  Pack  United States   \n",
            "18                                         Mi Hai Cua  Pack        Vietnam   \n",
            "19                                    Premium Gomtang  Pack    Korea South   \n",
            "20                          Cup Noodles Laksa Flavour   Cup      Hong Kong   \n",
            "21                                         Beef Ramen  Pack  United States   \n",
            "22  Creamy Soup With Crushed Noodles Hot  Sour Fis...   Cup      Singapore   \n",
            "23                                 Sapporo Miso Ramen  Pack  United States   \n",
            "24                         Hot Garlic Instant Noodles  Pack          India   \n",
            "25                          Song Song Kimchi Big Bowl  Bowl    Korea South   \n",
            "26         Instant Noodles Beef In Light Soup Flavour  Pack          Ghana   \n",
            "27                 Hakata Ramen Noodle White Tonkotsu  Bowl          Japan   \n",
            "28            Penang White Curry Rice Vermicelli Soup  Bowl       Malaysia   \n",
            "29           Signature Tom Yum Flavor Instant Noodles  Pack      Singapore   \n",
            "\n",
            "    Stars Top Ten  Review  \n",
            "0    3.75     NaN  2580.0  \n",
            "1    1.00     NaN  2579.0  \n",
            "2    2.25     NaN  2578.0  \n",
            "3    2.75     NaN  2577.0  \n",
            "4    3.75     NaN  2576.0  \n",
            "5    4.75     NaN  2575.0  \n",
            "6    4.00     NaN  2574.0  \n",
            "7    3.75     NaN  2573.0  \n",
            "8    0.25     NaN  2572.0  \n",
            "9    2.50     NaN  2571.0  \n",
            "10   5.00     NaN  2570.0  \n",
            "11   5.00     NaN  2569.0  \n",
            "12   4.25     NaN  2568.0  \n",
            "13   4.50     NaN  2567.0  \n",
            "14   5.00     NaN  2566.0  \n",
            "15   3.50     NaN  2565.0  \n",
            "16   3.75     NaN  2564.0  \n",
            "17   5.00     NaN  2563.0  \n",
            "18   4.00     NaN  2562.0  \n",
            "19   4.00     NaN  2561.0  \n",
            "20   4.25     NaN  2560.0  \n",
            "21   5.00     NaN  2559.0  \n",
            "22   5.00     NaN  2558.0  \n",
            "23   4.75     NaN  2557.0  \n",
            "24   4.25     NaN  2556.0  \n",
            "25   4.25     NaN  2555.0  \n",
            "26   3.50     NaN  2554.0  \n",
            "27   4.75     NaN  2553.0  \n",
            "28   5.00     NaN  2552.0  \n",
            "29   4.00     NaN  2551.0  \n"
          ]
        }
      ],
      "source": [
        "df_cleaned = df.drop_duplicates(['Brand', 'Variety', 'Style', 'Country', 'Stars'], keep='first')\n",
        "\n",
        "print(\"\\nJumlah data setelah cleansing (hapus duplikasi):\", len(df_cleaned))\n",
        "print(\"\\nContoh data setelah cleansing:\")\n",
        "print(df_cleaned.head(30))\n"
      ]
    },
    {
      "cell_type": "markdown",
      "metadata": {
        "id": "jPBJQ4Nugbtb"
      },
      "source": [
        "# **14. Data Enrichment**"
      ]
    },
    {
      "cell_type": "code",
      "execution_count": null,
      "metadata": {
        "colab": {
          "base_uri": "https://localhost:8080/"
        },
        "id": "u85bcGknPBuu",
        "outputId": "2bc77cd9-1d63-4d28-d879-d0eadcbb8212"
      },
      "outputs": [
        {
          "output_type": "stream",
          "name": "stdout",
          "text": [
            " Review #          Brand                                                    Variety  Stars Top Ten\n",
            "   2580.0      New Touch                                    Ts Restaurant Tantanmen   3.75    None\n",
            "   2579.0       Just Way Noodles Spicy Hot Sesame Spicy Hot Sesame Guanmiao Noodles   1.00    None\n",
            "   2578.0         Nissin                              Cup Noodles Chicken Vegetable   2.25    None\n",
            "   2577.0        Wei Lih                              Gge Ramen Snack Tomato Flavor   2.75    None\n",
            "   2576.0 Ching'S Secret                                            Singapore Curry   3.75    None\n",
            "   2575.0  Samyang Foods                                     Kimchi Song Song Ramen   4.75    None\n",
            "   2574.0        Acecook                        Spice Deli Tantan Men With Cilantro   4.00    None\n",
            "   2573.0    Ikeda Shoku                                      Nabeyaki Kitsune Udon   3.75    None\n",
            "   2572.0     Ripe'N'Dry                                   Hokkaido Soy Sauce Ramen   0.25    None\n",
            "   2571.0           Koka                       The Original Spicy Stirfried Noodles   2.50    None\n",
            "   2570.0    Tao Kae Noi                                Creamy Tom Yum Kung Flavour   5.00      #3\n",
            "   2569.0       Yamachan                                    Yokohama Tonkotsu Shoyu   5.00      #4\n",
            "   2568.0       Nongshim                           Mr Bibim Stirfried Kimchi Flavor   4.25    None\n",
            "   2567.0         Nissin                               Deka Buto Kimchi Pork Flavor   4.50    None\n",
            "   2566.0         Nissin Demae Ramen Bar Noodle Aka Tonkotsu Flavour Instant Noodle   5.00    None\n",
            "   2565.0           Koka                           Mushroom Flavour Instant Noodles   3.50    None\n",
            "   2564.0           Trdp                                       Mario Masala Noodles   3.75    None\n",
            "   2563.0       Yamachan                                          Tokyo Shoyu Ramen   5.00    None\n",
            "   2562.0       Binh Tay                                                 Mi Hai Cua   4.00    None\n",
            "   2561.0          Paldo                                            Premium Gomtang   4.00    None\n"
          ]
        }
      ],
      "source": [
        "df_cleaned['Stars'] = pd.to_numeric(df_cleaned['Stars'], errors='coerce')\n",
        "\n",
        "# Buat kolom Top Ten default None\n",
        "df_cleaned['Top Ten'] = None\n",
        "\n",
        "# Ambil index 10 besar berdasarkan Stars\n",
        "top10_index = df_cleaned.sort_values(by='Stars', ascending=False).head(10).index\n",
        "\n",
        "# Isi kolom Top Ten dengan peringkat\n",
        "df_cleaned.loc[top10_index, 'Top Ten'] = ['#' + str(i+1) for i in range(10)]\n",
        "\n",
        "# Tampilkan tabel rapi\n",
        "print(df_cleaned[['Review #','Brand','Variety','Stars','Top Ten']].head(20).to_string(index=False))\n"
      ]
    },
    {
      "cell_type": "markdown",
      "metadata": {
        "id": "fXzLz-PFgi7U"
      },
      "source": [
        "# **15. Mengunduh Data Bersih**"
      ]
    },
    {
      "cell_type": "code",
      "execution_count": null,
      "metadata": {
        "colab": {
          "base_uri": "https://localhost:8080/"
        },
        "id": "P1_HAN0VYnNY",
        "outputId": "6a4ef743-1357-4623-d6e8-d8dc3dd430b8"
      },
      "outputs": [
        {
          "output_type": "stream",
          "name": "stdout",
          "text": [
            "File berhasil disimpan di /content/drive/MyDrive/DataMining/Dataset_bersih/\n"
          ]
        }
      ],
      "source": [
        "folder_path = '/content/drive/MyDrive/DataMining/Dataset_bersih/'\n",
        "\n",
        "df_cleaned.to_csv(folder_path + 'pre-processing_data_ramen.csv', index=False)\n",
        "print(f\"File berhasil disimpan di {folder_path}\")\n"
      ]
    }
  ],
  "metadata": {
    "colab": {
      "provenance": []
    },
    "kernelspec": {
      "display_name": "Python 3",
      "name": "python3"
    },
    "language_info": {
      "name": "python"
    }
  },
  "nbformat": 4,
  "nbformat_minor": 0
}